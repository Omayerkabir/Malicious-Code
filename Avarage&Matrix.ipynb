{
 "cells": [
  {
   "cell_type": "code",
   "execution_count": 1,
   "id": "a01755b0-7576-4142-bec9-168a79acccef",
   "metadata": {},
   "outputs": [
    {
     "name": "stdout",
     "output_type": "stream",
     "text": [
      "             Algorithm  Accuracy  Recall  F1 score  Precision       Avg  \\\n",
      "0               1D-CNN    0.9932   0.990     1.000      1.000  0.995800   \n",
      "1                 LSTM    0.9951   1.000     1.000      1.000  0.998775   \n",
      "2                  MLP    0.9982   1.000     1.000      1.000  0.999550   \n",
      "3                  RNN    0.9952   1.000     1.000      1.000  0.998800   \n",
      "4        Random Forest    0.9990   0.999     0.999      0.999  0.999000   \n",
      "5        Decision Tree    0.9990   1.000     1.000      1.000  0.999750   \n",
      "6                  KNN    0.9990   1.000     1.000      1.000  0.999750   \n",
      "7                  SVM    0.8448   1.000     1.000      1.000  0.961200   \n",
      "8  Logistic Regression    0.7882   1.000     1.000      1.000  0.947050   \n",
      "\n",
      "   Best in how many matrix  \n",
      "0                        2  \n",
      "1                        3  \n",
      "2                        3  \n",
      "3                        3  \n",
      "4                        1  \n",
      "5                        4  \n",
      "6                        4  \n",
      "7                        3  \n",
      "8                        3  \n"
     ]
    }
   ],
   "source": [
    "import pandas as pd\n",
    "\n",
    "# Assuming your data is in a DataFrame called df\n",
    "data = {\n",
    "    'Algorithm': ['1D-CNN', 'LSTM', 'MLP', 'RNN', 'Random Forest', 'Decision Tree', 'KNN', 'SVM', 'Logistic Regression'],\n",
    "    'Accuracy': [0.9932, 0.9951, 0.9982, 0.9952, 0.999, 0.999, 0.999, 0.8448, 0.7882],\n",
    "    'Recall': [0.99, 1.0, 1.0, 1.0, 0.999,1.0, 1.0, 1.0, 1.0],\n",
    "    'F1 score': [1.0, 1.0, 1.0, 1.0, 0.999,1.0, 1.0, 1.0, 1.0],\n",
    "    'Precision': [1.0, 1.0, 1.0, 1.0, 0.999,1.0, 1.0, 1.0, 1.0],\n",
    "    \n",
    "}\n",
    "\n",
    "df = pd.DataFrame(data)\n",
    "\n",
    "# Calculate the average for each algorithm/model\n",
    "df['Avg'] = df[['Accuracy', 'Recall', 'F1 score', 'Precision']].mean(axis=1)\n",
    "\n",
    "# Determine the best in how many metrics\n",
    "best_counts = (df[['Accuracy', 'Recall', 'F1 score', 'Precision']] == df[['Accuracy', 'Recall', 'F1 score', 'Precision']].max()).sum(axis=1)\n",
    "df['Best in how many matrix'] = best_counts\n",
    "\n",
    "print(df)\n",
    " "
   ]
  }
 ],
 "metadata": {
  "kernelspec": {
   "display_name": "Python 3 (ipykernel)",
   "language": "python",
   "name": "python3"
  },
  "language_info": {
   "codemirror_mode": {
    "name": "ipython",
    "version": 3
   },
   "file_extension": ".py",
   "mimetype": "text/x-python",
   "name": "python",
   "nbconvert_exporter": "python",
   "pygments_lexer": "ipython3",
   "version": "3.11.7"
  }
 },
 "nbformat": 4,
 "nbformat_minor": 5
}
