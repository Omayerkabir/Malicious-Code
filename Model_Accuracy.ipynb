{
 "cells": [
  {
   "cell_type": "code",
   "execution_count": 1,
   "id": "862b4adf-4724-4534-8343-c272d7ec5cae",
   "metadata": {},
   "outputs": [
    {
     "name": "stdout",
     "output_type": "stream",
     "text": [
      "Requirement already satisfied: scipy in c:\\users\\aorus\\anaconda3\\lib\\site-packages (1.14.0)\n",
      "Requirement already satisfied: numpy<2.3,>=1.23.5 in c:\\users\\aorus\\anaconda3\\lib\\site-packages (from scipy) (1.23.5)\n",
      "Note: you may need to restart the kernel to use updated packages.\n"
     ]
    }
   ],
   "source": [
    "pip install --upgrade scipy"
   ]
  },
  {
   "cell_type": "code",
   "execution_count": 2,
   "id": "9f290e89-dbe1-493b-b6fb-0dc5141ea2d4",
   "metadata": {},
   "outputs": [
    {
     "name": "stdout",
     "output_type": "stream",
     "text": [
      "Requirement already satisfied: seaborn in c:\\users\\aorus\\anaconda3\\lib\\site-packages (0.12.2)Note: you may need to restart the kernel to use updated packages.\n",
      "\n",
      "Requirement already satisfied: numpy!=1.24.0,>=1.17 in c:\\users\\aorus\\anaconda3\\lib\\site-packages (from seaborn) (1.23.5)\n",
      "Requirement already satisfied: pandas>=0.25 in c:\\users\\aorus\\anaconda3\\lib\\site-packages (from seaborn) (2.1.4)\n",
      "Requirement already satisfied: matplotlib!=3.6.1,>=3.1 in c:\\users\\aorus\\anaconda3\\lib\\site-packages (from seaborn) (3.8.0)\n",
      "Requirement already satisfied: contourpy>=1.0.1 in c:\\users\\aorus\\anaconda3\\lib\\site-packages (from matplotlib!=3.6.1,>=3.1->seaborn) (1.2.0)\n",
      "Requirement already satisfied: cycler>=0.10 in c:\\users\\aorus\\anaconda3\\lib\\site-packages (from matplotlib!=3.6.1,>=3.1->seaborn) (0.11.0)\n",
      "Requirement already satisfied: fonttools>=4.22.0 in c:\\users\\aorus\\anaconda3\\lib\\site-packages (from matplotlib!=3.6.1,>=3.1->seaborn) (4.25.0)\n",
      "Requirement already satisfied: kiwisolver>=1.0.1 in c:\\users\\aorus\\anaconda3\\lib\\site-packages (from matplotlib!=3.6.1,>=3.1->seaborn) (1.4.4)\n",
      "Requirement already satisfied: packaging>=20.0 in c:\\users\\aorus\\anaconda3\\lib\\site-packages (from matplotlib!=3.6.1,>=3.1->seaborn) (23.1)\n",
      "Requirement already satisfied: pillow>=6.2.0 in c:\\users\\aorus\\anaconda3\\lib\\site-packages (from matplotlib!=3.6.1,>=3.1->seaborn) (10.2.0)\n",
      "Requirement already satisfied: pyparsing>=2.3.1 in c:\\users\\aorus\\anaconda3\\lib\\site-packages (from matplotlib!=3.6.1,>=3.1->seaborn) (3.0.9)\n",
      "Requirement already satisfied: python-dateutil>=2.7 in c:\\users\\aorus\\anaconda3\\lib\\site-packages (from matplotlib!=3.6.1,>=3.1->seaborn) (2.8.2)\n",
      "Requirement already satisfied: pytz>=2020.1 in c:\\users\\aorus\\anaconda3\\lib\\site-packages (from pandas>=0.25->seaborn) (2023.3.post1)\n",
      "Requirement already satisfied: tzdata>=2022.1 in c:\\users\\aorus\\anaconda3\\lib\\site-packages (from pandas>=0.25->seaborn) (2023.3)\n",
      "Requirement already satisfied: six>=1.5 in c:\\users\\aorus\\anaconda3\\lib\\site-packages (from python-dateutil>=2.7->matplotlib!=3.6.1,>=3.1->seaborn) (1.16.0)\n"
     ]
    }
   ],
   "source": [
    "pip install seaborn"
   ]
  },
  {
   "cell_type": "code",
   "execution_count": 3,
   "id": "1daefe46-288b-49c9-b3f1-69eeecbdfaf5",
   "metadata": {},
   "outputs": [
    {
     "name": "stdout",
     "output_type": "stream",
     "text": [
      "Requirement already satisfied: tensorflow==2.12.0rc0 in c:\\users\\aorus\\anaconda3\\lib\\site-packages (2.12.0rc0)\n",
      "Requirement already satisfied: tensorflow-io==0.29.0 in c:\\users\\aorus\\anaconda3\\lib\\site-packages (0.29.0)\n",
      "Requirement already satisfied: tensorflow-intel==2.12.0-rc0 in c:\\users\\aorus\\anaconda3\\lib\\site-packages (from tensorflow==2.12.0rc0) (2.12.0rc0)\n",
      "Requirement already satisfied: tensorflow-io-gcs-filesystem==0.29.0 in c:\\users\\aorus\\anaconda3\\lib\\site-packages (from tensorflow-io==0.29.0) (0.29.0)\n",
      "Requirement already satisfied: absl-py>=1.0.0 in c:\\users\\aorus\\anaconda3\\lib\\site-packages (from tensorflow-intel==2.12.0-rc0->tensorflow==2.12.0rc0) (2.1.0)\n",
      "Requirement already satisfied: astunparse>=1.6.0 in c:\\users\\aorus\\anaconda3\\lib\\site-packages (from tensorflow-intel==2.12.0-rc0->tensorflow==2.12.0rc0) (1.6.3)\n",
      "Requirement already satisfied: flatbuffers>=2.0 in c:\\users\\aorus\\anaconda3\\lib\\site-packages (from tensorflow-intel==2.12.0-rc0->tensorflow==2.12.0rc0) (24.3.25)\n",
      "Requirement already satisfied: gast<=0.4.0,>=0.2.1 in c:\\users\\aorus\\anaconda3\\lib\\site-packages (from tensorflow-intel==2.12.0-rc0->tensorflow==2.12.0rc0) (0.4.0)\n",
      "Requirement already satisfied: google-pasta>=0.1.1 in c:\\users\\aorus\\anaconda3\\lib\\site-packages (from tensorflow-intel==2.12.0-rc0->tensorflow==2.12.0rc0) (0.2.0)\n",
      "Requirement already satisfied: h5py>=2.9.0 in c:\\users\\aorus\\anaconda3\\lib\\site-packages (from tensorflow-intel==2.12.0-rc0->tensorflow==2.12.0rc0) (3.11.0)\n",
      "Requirement already satisfied: jax>=0.3.15 in c:\\users\\aorus\\anaconda3\\lib\\site-packages (from tensorflow-intel==2.12.0-rc0->tensorflow==2.12.0rc0) (0.4.30)\n",
      "Requirement already satisfied: libclang>=13.0.0 in c:\\users\\aorus\\anaconda3\\lib\\site-packages (from tensorflow-intel==2.12.0-rc0->tensorflow==2.12.0rc0) (18.1.1)\n",
      "Requirement already satisfied: numpy<1.24,>=1.22 in c:\\users\\aorus\\anaconda3\\lib\\site-packages (from tensorflow-intel==2.12.0-rc0->tensorflow==2.12.0rc0) (1.23.5)\n",
      "Requirement already satisfied: opt-einsum>=2.3.2 in c:\\users\\aorus\\anaconda3\\lib\\site-packages (from tensorflow-intel==2.12.0-rc0->tensorflow==2.12.0rc0) (3.3.0)\n",
      "Requirement already satisfied: packaging in c:\\users\\aorus\\anaconda3\\lib\\site-packages (from tensorflow-intel==2.12.0-rc0->tensorflow==2.12.0rc0) (23.1)\n",
      "Requirement already satisfied: protobuf!=4.21.0,!=4.21.1,!=4.21.2,!=4.21.3,!=4.21.4,!=4.21.5,<5.0.0dev,>=3.20.3 in c:\\users\\aorus\\anaconda3\\lib\\site-packages (from tensorflow-intel==2.12.0-rc0->tensorflow==2.12.0rc0) (3.20.3)\n",
      "Requirement already satisfied: setuptools in c:\\users\\aorus\\anaconda3\\lib\\site-packages (from tensorflow-intel==2.12.0-rc0->tensorflow==2.12.0rc0) (68.2.2)\n",
      "Requirement already satisfied: six>=1.12.0 in c:\\users\\aorus\\anaconda3\\lib\\site-packages (from tensorflow-intel==2.12.0-rc0->tensorflow==2.12.0rc0) (1.16.0)\n",
      "Requirement already satisfied: termcolor>=1.1.0 in c:\\users\\aorus\\anaconda3\\lib\\site-packages (from tensorflow-intel==2.12.0-rc0->tensorflow==2.12.0rc0) (2.4.0)\n",
      "Requirement already satisfied: typing-extensions>=3.6.6 in c:\\users\\aorus\\anaconda3\\lib\\site-packages (from tensorflow-intel==2.12.0-rc0->tensorflow==2.12.0rc0) (4.9.0)\n",
      "Requirement already satisfied: wrapt>=1.11.0 in c:\\users\\aorus\\anaconda3\\lib\\site-packages (from tensorflow-intel==2.12.0-rc0->tensorflow==2.12.0rc0) (1.14.1)\n",
      "Requirement already satisfied: grpcio<2.0,>=1.24.3 in c:\\users\\aorus\\anaconda3\\lib\\site-packages (from tensorflow-intel==2.12.0-rc0->tensorflow==2.12.0rc0) (1.65.4)\n",
      "Requirement already satisfied: tensorboard<2.13,>=2.12 in c:\\users\\aorus\\anaconda3\\lib\\site-packages (from tensorflow-intel==2.12.0-rc0->tensorflow==2.12.0rc0) (2.12.3)\n",
      "Requirement already satisfied: tensorflow-estimator<2.13,>=2.12.0rc0 in c:\\users\\aorus\\anaconda3\\lib\\site-packages (from tensorflow-intel==2.12.0-rc0->tensorflow==2.12.0rc0) (2.12.0)\n",
      "Requirement already satisfied: keras<2.13,>=2.12.0rc0 in c:\\users\\aorus\\anaconda3\\lib\\site-packages (from tensorflow-intel==2.12.0-rc0->tensorflow==2.12.0rc0) (2.12.0)\n",
      "Requirement already satisfied: wheel<1.0,>=0.23.0 in c:\\users\\aorus\\anaconda3\\lib\\site-packages (from astunparse>=1.6.0->tensorflow-intel==2.12.0-rc0->tensorflow==2.12.0rc0) (0.41.2)\n",
      "Requirement already satisfied: jaxlib<=0.4.30,>=0.4.27 in c:\\users\\aorus\\anaconda3\\lib\\site-packages (from jax>=0.3.15->tensorflow-intel==2.12.0-rc0->tensorflow==2.12.0rc0) (0.4.30)\n",
      "Requirement already satisfied: ml-dtypes>=0.2.0 in c:\\users\\aorus\\anaconda3\\lib\\site-packages (from jax>=0.3.15->tensorflow-intel==2.12.0-rc0->tensorflow==2.12.0rc0) (0.4.0)\n",
      "Requirement already satisfied: scipy>=1.9 in c:\\users\\aorus\\anaconda3\\lib\\site-packages (from jax>=0.3.15->tensorflow-intel==2.12.0-rc0->tensorflow==2.12.0rc0) (1.14.0)\n",
      "Requirement already satisfied: google-auth<3,>=1.6.3 in c:\\users\\aorus\\anaconda3\\lib\\site-packages (from tensorboard<2.13,>=2.12->tensorflow-intel==2.12.0-rc0->tensorflow==2.12.0rc0) (2.33.0)\n",
      "Requirement already satisfied: google-auth-oauthlib<1.1,>=0.5 in c:\\users\\aorus\\anaconda3\\lib\\site-packages (from tensorboard<2.13,>=2.12->tensorflow-intel==2.12.0-rc0->tensorflow==2.12.0rc0) (1.0.0)\n",
      "Requirement already satisfied: markdown>=2.6.8 in c:\\users\\aorus\\anaconda3\\lib\\site-packages (from tensorboard<2.13,>=2.12->tensorflow-intel==2.12.0-rc0->tensorflow==2.12.0rc0) (3.4.1)\n",
      "Requirement already satisfied: requests<3,>=2.21.0 in c:\\users\\aorus\\anaconda3\\lib\\site-packages (from tensorboard<2.13,>=2.12->tensorflow-intel==2.12.0-rc0->tensorflow==2.12.0rc0) (2.31.0)\n",
      "Requirement already satisfied: tensorboard-data-server<0.8.0,>=0.7.0 in c:\\users\\aorus\\anaconda3\\lib\\site-packages (from tensorboard<2.13,>=2.12->tensorflow-intel==2.12.0-rc0->tensorflow==2.12.0rc0) (0.7.2)\n",
      "Requirement already satisfied: werkzeug>=1.0.1 in c:\\users\\aorus\\anaconda3\\lib\\site-packages (from tensorboard<2.13,>=2.12->tensorflow-intel==2.12.0-rc0->tensorflow==2.12.0rc0) (2.2.3)\n",
      "Requirement already satisfied: cachetools<6.0,>=2.0.0 in c:\\users\\aorus\\anaconda3\\lib\\site-packages (from google-auth<3,>=1.6.3->tensorboard<2.13,>=2.12->tensorflow-intel==2.12.0-rc0->tensorflow==2.12.0rc0) (4.2.2)\n",
      "Requirement already satisfied: pyasn1-modules>=0.2.1 in c:\\users\\aorus\\anaconda3\\lib\\site-packages (from google-auth<3,>=1.6.3->tensorboard<2.13,>=2.12->tensorflow-intel==2.12.0-rc0->tensorflow==2.12.0rc0) (0.2.8)\n",
      "Requirement already satisfied: rsa<5,>=3.1.4 in c:\\users\\aorus\\anaconda3\\lib\\site-packages (from google-auth<3,>=1.6.3->tensorboard<2.13,>=2.12->tensorflow-intel==2.12.0-rc0->tensorflow==2.12.0rc0) (4.9)\n",
      "Requirement already satisfied: requests-oauthlib>=0.7.0 in c:\\users\\aorus\\anaconda3\\lib\\site-packages (from google-auth-oauthlib<1.1,>=0.5->tensorboard<2.13,>=2.12->tensorflow-intel==2.12.0-rc0->tensorflow==2.12.0rc0) (2.0.0)\n",
      "Requirement already satisfied: charset-normalizer<4,>=2 in c:\\users\\aorus\\anaconda3\\lib\\site-packages (from requests<3,>=2.21.0->tensorboard<2.13,>=2.12->tensorflow-intel==2.12.0-rc0->tensorflow==2.12.0rc0) (2.0.4)\n",
      "Requirement already satisfied: idna<4,>=2.5 in c:\\users\\aorus\\anaconda3\\lib\\site-packages (from requests<3,>=2.21.0->tensorboard<2.13,>=2.12->tensorflow-intel==2.12.0-rc0->tensorflow==2.12.0rc0) (3.4)\n",
      "Requirement already satisfied: urllib3<3,>=1.21.1 in c:\\users\\aorus\\anaconda3\\lib\\site-packages (from requests<3,>=2.21.0->tensorboard<2.13,>=2.12->tensorflow-intel==2.12.0-rc0->tensorflow==2.12.0rc0) (2.0.7)\n",
      "Requirement already satisfied: certifi>=2017.4.17 in c:\\users\\aorus\\anaconda3\\lib\\site-packages (from requests<3,>=2.21.0->tensorboard<2.13,>=2.12->tensorflow-intel==2.12.0-rc0->tensorflow==2.12.0rc0) (2024.2.2)\n",
      "Requirement already satisfied: MarkupSafe>=2.1.1 in c:\\users\\aorus\\anaconda3\\lib\\site-packages (from werkzeug>=1.0.1->tensorboard<2.13,>=2.12->tensorflow-intel==2.12.0-rc0->tensorflow==2.12.0rc0) (2.1.3)\n",
      "Requirement already satisfied: pyasn1<0.5.0,>=0.4.6 in c:\\users\\aorus\\anaconda3\\lib\\site-packages (from pyasn1-modules>=0.2.1->google-auth<3,>=1.6.3->tensorboard<2.13,>=2.12->tensorflow-intel==2.12.0-rc0->tensorflow==2.12.0rc0) (0.4.8)\n",
      "Requirement already satisfied: oauthlib>=3.0.0 in c:\\users\\aorus\\anaconda3\\lib\\site-packages (from requests-oauthlib>=0.7.0->google-auth-oauthlib<1.1,>=0.5->tensorboard<2.13,>=2.12->tensorflow-intel==2.12.0-rc0->tensorflow==2.12.0rc0) (3.2.2)\n",
      "Note: you may need to restart the kernel to use updated packages.\n"
     ]
    }
   ],
   "source": [
    "pip install tensorflow==2.12.0rc0 tensorflow-io==0.29.0 "
   ]
  },
  {
   "cell_type": "code",
   "execution_count": 4,
   "id": "c2dd505c-2edf-4d37-a43f-31440cd6ddcd",
   "metadata": {},
   "outputs": [
    {
     "name": "stdout",
     "output_type": "stream",
     "text": [
      "Requirement already satisfied: numpy in c:\\users\\aorus\\anaconda3\\lib\\site-packages (1.23.5)\n",
      "Requirement already satisfied: pandas in c:\\users\\aorus\\anaconda3\\lib\\site-packages (2.1.4)\n",
      "Requirement already satisfied: scikit-learn in c:\\users\\aorus\\anaconda3\\lib\\site-packages (1.2.2)\n",
      "Requirement already satisfied: tensorflow in c:\\users\\aorus\\anaconda3\\lib\\site-packages (2.12.0rc0)\n",
      "Requirement already satisfied: keras in c:\\users\\aorus\\anaconda3\\lib\\site-packages (2.12.0)\n",
      "Requirement already satisfied: python-dateutil>=2.8.2 in c:\\users\\aorus\\anaconda3\\lib\\site-packages (from pandas) (2.8.2)\n",
      "Requirement already satisfied: pytz>=2020.1 in c:\\users\\aorus\\anaconda3\\lib\\site-packages (from pandas) (2023.3.post1)\n",
      "Requirement already satisfied: tzdata>=2022.1 in c:\\users\\aorus\\anaconda3\\lib\\site-packages (from pandas) (2023.3)\n",
      "Requirement already satisfied: scipy>=1.3.2 in c:\\users\\aorus\\anaconda3\\lib\\site-packages (from scikit-learn) (1.14.0)\n",
      "Requirement already satisfied: joblib>=1.1.1 in c:\\users\\aorus\\anaconda3\\lib\\site-packages (from scikit-learn) (1.2.0)\n",
      "Requirement already satisfied: threadpoolctl>=2.0.0 in c:\\users\\aorus\\anaconda3\\lib\\site-packages (from scikit-learn) (2.2.0)\n",
      "Requirement already satisfied: tensorflow-intel==2.12.0-rc0 in c:\\users\\aorus\\anaconda3\\lib\\site-packages (from tensorflow) (2.12.0rc0)\n",
      "Requirement already satisfied: absl-py>=1.0.0 in c:\\users\\aorus\\anaconda3\\lib\\site-packages (from tensorflow-intel==2.12.0-rc0->tensorflow) (2.1.0)\n",
      "Requirement already satisfied: astunparse>=1.6.0 in c:\\users\\aorus\\anaconda3\\lib\\site-packages (from tensorflow-intel==2.12.0-rc0->tensorflow) (1.6.3)\n",
      "Requirement already satisfied: flatbuffers>=2.0 in c:\\users\\aorus\\anaconda3\\lib\\site-packages (from tensorflow-intel==2.12.0-rc0->tensorflow) (24.3.25)\n",
      "Requirement already satisfied: gast<=0.4.0,>=0.2.1 in c:\\users\\aorus\\anaconda3\\lib\\site-packages (from tensorflow-intel==2.12.0-rc0->tensorflow) (0.4.0)\n",
      "Requirement already satisfied: google-pasta>=0.1.1 in c:\\users\\aorus\\anaconda3\\lib\\site-packages (from tensorflow-intel==2.12.0-rc0->tensorflow) (0.2.0)\n",
      "Requirement already satisfied: h5py>=2.9.0 in c:\\users\\aorus\\anaconda3\\lib\\site-packages (from tensorflow-intel==2.12.0-rc0->tensorflow) (3.11.0)\n",
      "Requirement already satisfied: jax>=0.3.15 in c:\\users\\aorus\\anaconda3\\lib\\site-packages (from tensorflow-intel==2.12.0-rc0->tensorflow) (0.4.30)\n",
      "Requirement already satisfied: libclang>=13.0.0 in c:\\users\\aorus\\anaconda3\\lib\\site-packages (from tensorflow-intel==2.12.0-rc0->tensorflow) (18.1.1)\n",
      "Requirement already satisfied: opt-einsum>=2.3.2 in c:\\users\\aorus\\anaconda3\\lib\\site-packages (from tensorflow-intel==2.12.0-rc0->tensorflow) (3.3.0)\n",
      "Requirement already satisfied: packaging in c:\\users\\aorus\\anaconda3\\lib\\site-packages (from tensorflow-intel==2.12.0-rc0->tensorflow) (23.1)\n",
      "Requirement already satisfied: protobuf!=4.21.0,!=4.21.1,!=4.21.2,!=4.21.3,!=4.21.4,!=4.21.5,<5.0.0dev,>=3.20.3 in c:\\users\\aorus\\anaconda3\\lib\\site-packages (from tensorflow-intel==2.12.0-rc0->tensorflow) (3.20.3)\n",
      "Requirement already satisfied: setuptools in c:\\users\\aorus\\anaconda3\\lib\\site-packages (from tensorflow-intel==2.12.0-rc0->tensorflow) (68.2.2)\n",
      "Requirement already satisfied: six>=1.12.0 in c:\\users\\aorus\\anaconda3\\lib\\site-packages (from tensorflow-intel==2.12.0-rc0->tensorflow) (1.16.0)\n",
      "Requirement already satisfied: termcolor>=1.1.0 in c:\\users\\aorus\\anaconda3\\lib\\site-packages (from tensorflow-intel==2.12.0-rc0->tensorflow) (2.4.0)\n",
      "Requirement already satisfied: typing-extensions>=3.6.6 in c:\\users\\aorus\\anaconda3\\lib\\site-packages (from tensorflow-intel==2.12.0-rc0->tensorflow) (4.9.0)\n",
      "Requirement already satisfied: wrapt>=1.11.0 in c:\\users\\aorus\\anaconda3\\lib\\site-packages (from tensorflow-intel==2.12.0-rc0->tensorflow) (1.14.1)\n",
      "Requirement already satisfied: grpcio<2.0,>=1.24.3 in c:\\users\\aorus\\anaconda3\\lib\\site-packages (from tensorflow-intel==2.12.0-rc0->tensorflow) (1.65.4)\n",
      "Requirement already satisfied: tensorboard<2.13,>=2.12 in c:\\users\\aorus\\anaconda3\\lib\\site-packages (from tensorflow-intel==2.12.0-rc0->tensorflow) (2.12.3)\n",
      "Requirement already satisfied: tensorflow-estimator<2.13,>=2.12.0rc0 in c:\\users\\aorus\\anaconda3\\lib\\site-packages (from tensorflow-intel==2.12.0-rc0->tensorflow) (2.12.0)\n",
      "Requirement already satisfied: tensorflow-io-gcs-filesystem>=0.23.1 in c:\\users\\aorus\\anaconda3\\lib\\site-packages (from tensorflow-intel==2.12.0-rc0->tensorflow) (0.29.0)\n",
      "Requirement already satisfied: wheel<1.0,>=0.23.0 in c:\\users\\aorus\\anaconda3\\lib\\site-packages (from astunparse>=1.6.0->tensorflow-intel==2.12.0-rc0->tensorflow) (0.41.2)\n",
      "Requirement already satisfied: jaxlib<=0.4.30,>=0.4.27 in c:\\users\\aorus\\anaconda3\\lib\\site-packages (from jax>=0.3.15->tensorflow-intel==2.12.0-rc0->tensorflow) (0.4.30)\n",
      "Requirement already satisfied: ml-dtypes>=0.2.0 in c:\\users\\aorus\\anaconda3\\lib\\site-packages (from jax>=0.3.15->tensorflow-intel==2.12.0-rc0->tensorflow) (0.4.0)\n",
      "Requirement already satisfied: google-auth<3,>=1.6.3 in c:\\users\\aorus\\anaconda3\\lib\\site-packages (from tensorboard<2.13,>=2.12->tensorflow-intel==2.12.0-rc0->tensorflow) (2.33.0)\n",
      "Requirement already satisfied: google-auth-oauthlib<1.1,>=0.5 in c:\\users\\aorus\\anaconda3\\lib\\site-packages (from tensorboard<2.13,>=2.12->tensorflow-intel==2.12.0-rc0->tensorflow) (1.0.0)\n",
      "Requirement already satisfied: markdown>=2.6.8 in c:\\users\\aorus\\anaconda3\\lib\\site-packages (from tensorboard<2.13,>=2.12->tensorflow-intel==2.12.0-rc0->tensorflow) (3.4.1)\n",
      "Requirement already satisfied: requests<3,>=2.21.0 in c:\\users\\aorus\\anaconda3\\lib\\site-packages (from tensorboard<2.13,>=2.12->tensorflow-intel==2.12.0-rc0->tensorflow) (2.31.0)\n",
      "Requirement already satisfied: tensorboard-data-server<0.8.0,>=0.7.0 in c:\\users\\aorus\\anaconda3\\lib\\site-packages (from tensorboard<2.13,>=2.12->tensorflow-intel==2.12.0-rc0->tensorflow) (0.7.2)\n",
      "Requirement already satisfied: werkzeug>=1.0.1 in c:\\users\\aorus\\anaconda3\\lib\\site-packages (from tensorboard<2.13,>=2.12->tensorflow-intel==2.12.0-rc0->tensorflow) (2.2.3)\n",
      "Requirement already satisfied: cachetools<6.0,>=2.0.0 in c:\\users\\aorus\\anaconda3\\lib\\site-packages (from google-auth<3,>=1.6.3->tensorboard<2.13,>=2.12->tensorflow-intel==2.12.0-rc0->tensorflow) (4.2.2)\n",
      "Requirement already satisfied: pyasn1-modules>=0.2.1 in c:\\users\\aorus\\anaconda3\\lib\\site-packages (from google-auth<3,>=1.6.3->tensorboard<2.13,>=2.12->tensorflow-intel==2.12.0-rc0->tensorflow) (0.2.8)\n",
      "Requirement already satisfied: rsa<5,>=3.1.4 in c:\\users\\aorus\\anaconda3\\lib\\site-packages (from google-auth<3,>=1.6.3->tensorboard<2.13,>=2.12->tensorflow-intel==2.12.0-rc0->tensorflow) (4.9)\n",
      "Requirement already satisfied: requests-oauthlib>=0.7.0 in c:\\users\\aorus\\anaconda3\\lib\\site-packages (from google-auth-oauthlib<1.1,>=0.5->tensorboard<2.13,>=2.12->tensorflow-intel==2.12.0-rc0->tensorflow) (2.0.0)\n",
      "Requirement already satisfied: charset-normalizer<4,>=2 in c:\\users\\aorus\\anaconda3\\lib\\site-packages (from requests<3,>=2.21.0->tensorboard<2.13,>=2.12->tensorflow-intel==2.12.0-rc0->tensorflow) (2.0.4)\n",
      "Requirement already satisfied: idna<4,>=2.5 in c:\\users\\aorus\\anaconda3\\lib\\site-packages (from requests<3,>=2.21.0->tensorboard<2.13,>=2.12->tensorflow-intel==2.12.0-rc0->tensorflow) (3.4)\n",
      "Requirement already satisfied: urllib3<3,>=1.21.1 in c:\\users\\aorus\\anaconda3\\lib\\site-packages (from requests<3,>=2.21.0->tensorboard<2.13,>=2.12->tensorflow-intel==2.12.0-rc0->tensorflow) (2.0.7)\n",
      "Requirement already satisfied: certifi>=2017.4.17 in c:\\users\\aorus\\anaconda3\\lib\\site-packages (from requests<3,>=2.21.0->tensorboard<2.13,>=2.12->tensorflow-intel==2.12.0-rc0->tensorflow) (2024.2.2)\n",
      "Requirement already satisfied: MarkupSafe>=2.1.1 in c:\\users\\aorus\\anaconda3\\lib\\site-packages (from werkzeug>=1.0.1->tensorboard<2.13,>=2.12->tensorflow-intel==2.12.0-rc0->tensorflow) (2.1.3)\n",
      "Requirement already satisfied: pyasn1<0.5.0,>=0.4.6 in c:\\users\\aorus\\anaconda3\\lib\\site-packages (from pyasn1-modules>=0.2.1->google-auth<3,>=1.6.3->tensorboard<2.13,>=2.12->tensorflow-intel==2.12.0-rc0->tensorflow) (0.4.8)\n",
      "Requirement already satisfied: oauthlib>=3.0.0 in c:\\users\\aorus\\anaconda3\\lib\\site-packages (from requests-oauthlib>=0.7.0->google-auth-oauthlib<1.1,>=0.5->tensorboard<2.13,>=2.12->tensorflow-intel==2.12.0-rc0->tensorflow) (3.2.2)\n",
      "Note: you may need to restart the kernel to use updated packages.\n"
     ]
    }
   ],
   "source": [
    "pip install numpy pandas scikit-learn tensorflow keras"
   ]
  },
  {
   "cell_type": "code",
   "execution_count": 5,
   "id": "e67385f4-e641-4b90-b91b-5a4e3e6eda2e",
   "metadata": {},
   "outputs": [
    {
     "name": "stdout",
     "output_type": "stream",
     "text": [
      "Requirement already satisfied: tensorflow in c:\\users\\aorus\\anaconda3\\lib\\site-packages (2.12.0rc0)\n",
      "Requirement already satisfied: tensorflow-intel==2.12.0-rc0 in c:\\users\\aorus\\anaconda3\\lib\\site-packages (from tensorflow) (2.12.0rc0)\n",
      "Requirement already satisfied: absl-py>=1.0.0 in c:\\users\\aorus\\anaconda3\\lib\\site-packages (from tensorflow-intel==2.12.0-rc0->tensorflow) (2.1.0)\n",
      "Requirement already satisfied: astunparse>=1.6.0 in c:\\users\\aorus\\anaconda3\\lib\\site-packages (from tensorflow-intel==2.12.0-rc0->tensorflow) (1.6.3)\n",
      "Requirement already satisfied: flatbuffers>=2.0 in c:\\users\\aorus\\anaconda3\\lib\\site-packages (from tensorflow-intel==2.12.0-rc0->tensorflow) (24.3.25)\n",
      "Requirement already satisfied: gast<=0.4.0,>=0.2.1 in c:\\users\\aorus\\anaconda3\\lib\\site-packages (from tensorflow-intel==2.12.0-rc0->tensorflow) (0.4.0)\n",
      "Requirement already satisfied: google-pasta>=0.1.1 in c:\\users\\aorus\\anaconda3\\lib\\site-packages (from tensorflow-intel==2.12.0-rc0->tensorflow) (0.2.0)\n",
      "Requirement already satisfied: h5py>=2.9.0 in c:\\users\\aorus\\anaconda3\\lib\\site-packages (from tensorflow-intel==2.12.0-rc0->tensorflow) (3.11.0)\n",
      "Requirement already satisfied: jax>=0.3.15 in c:\\users\\aorus\\anaconda3\\lib\\site-packages (from tensorflow-intel==2.12.0-rc0->tensorflow) (0.4.30)\n",
      "Requirement already satisfied: libclang>=13.0.0 in c:\\users\\aorus\\anaconda3\\lib\\site-packages (from tensorflow-intel==2.12.0-rc0->tensorflow) (18.1.1)\n",
      "Requirement already satisfied: numpy<1.24,>=1.22 in c:\\users\\aorus\\anaconda3\\lib\\site-packages (from tensorflow-intel==2.12.0-rc0->tensorflow) (1.23.5)\n",
      "Requirement already satisfied: opt-einsum>=2.3.2 in c:\\users\\aorus\\anaconda3\\lib\\site-packages (from tensorflow-intel==2.12.0-rc0->tensorflow) (3.3.0)\n",
      "Requirement already satisfied: packaging in c:\\users\\aorus\\anaconda3\\lib\\site-packages (from tensorflow-intel==2.12.0-rc0->tensorflow) (23.1)\n",
      "Requirement already satisfied: protobuf!=4.21.0,!=4.21.1,!=4.21.2,!=4.21.3,!=4.21.4,!=4.21.5,<5.0.0dev,>=3.20.3 in c:\\users\\aorus\\anaconda3\\lib\\site-packages (from tensorflow-intel==2.12.0-rc0->tensorflow) (3.20.3)\n",
      "Requirement already satisfied: setuptools in c:\\users\\aorus\\anaconda3\\lib\\site-packages (from tensorflow-intel==2.12.0-rc0->tensorflow) (68.2.2)\n",
      "Requirement already satisfied: six>=1.12.0 in c:\\users\\aorus\\anaconda3\\lib\\site-packages (from tensorflow-intel==2.12.0-rc0->tensorflow) (1.16.0)\n",
      "Requirement already satisfied: termcolor>=1.1.0 in c:\\users\\aorus\\anaconda3\\lib\\site-packages (from tensorflow-intel==2.12.0-rc0->tensorflow) (2.4.0)\n",
      "Requirement already satisfied: typing-extensions>=3.6.6 in c:\\users\\aorus\\anaconda3\\lib\\site-packages (from tensorflow-intel==2.12.0-rc0->tensorflow) (4.9.0)\n",
      "Requirement already satisfied: wrapt>=1.11.0 in c:\\users\\aorus\\anaconda3\\lib\\site-packages (from tensorflow-intel==2.12.0-rc0->tensorflow) (1.14.1)\n",
      "Requirement already satisfied: grpcio<2.0,>=1.24.3 in c:\\users\\aorus\\anaconda3\\lib\\site-packages (from tensorflow-intel==2.12.0-rc0->tensorflow) (1.65.4)\n",
      "Requirement already satisfied: tensorboard<2.13,>=2.12 in c:\\users\\aorus\\anaconda3\\lib\\site-packages (from tensorflow-intel==2.12.0-rc0->tensorflow) (2.12.3)\n",
      "Requirement already satisfied: tensorflow-estimator<2.13,>=2.12.0rc0 in c:\\users\\aorus\\anaconda3\\lib\\site-packages (from tensorflow-intel==2.12.0-rc0->tensorflow) (2.12.0)\n",
      "Requirement already satisfied: keras<2.13,>=2.12.0rc0 in c:\\users\\aorus\\anaconda3\\lib\\site-packages (from tensorflow-intel==2.12.0-rc0->tensorflow) (2.12.0)\n",
      "Requirement already satisfied: tensorflow-io-gcs-filesystem>=0.23.1 in c:\\users\\aorus\\anaconda3\\lib\\site-packages (from tensorflow-intel==2.12.0-rc0->tensorflow) (0.29.0)\n",
      "Requirement already satisfied: wheel<1.0,>=0.23.0 in c:\\users\\aorus\\anaconda3\\lib\\site-packages (from astunparse>=1.6.0->tensorflow-intel==2.12.0-rc0->tensorflow) (0.41.2)\n",
      "Requirement already satisfied: jaxlib<=0.4.30,>=0.4.27 in c:\\users\\aorus\\anaconda3\\lib\\site-packages (from jax>=0.3.15->tensorflow-intel==2.12.0-rc0->tensorflow) (0.4.30)\n",
      "Requirement already satisfied: ml-dtypes>=0.2.0 in c:\\users\\aorus\\anaconda3\\lib\\site-packages (from jax>=0.3.15->tensorflow-intel==2.12.0-rc0->tensorflow) (0.4.0)\n",
      "Requirement already satisfied: scipy>=1.9 in c:\\users\\aorus\\anaconda3\\lib\\site-packages (from jax>=0.3.15->tensorflow-intel==2.12.0-rc0->tensorflow) (1.14.0)\n",
      "Requirement already satisfied: google-auth<3,>=1.6.3 in c:\\users\\aorus\\anaconda3\\lib\\site-packages (from tensorboard<2.13,>=2.12->tensorflow-intel==2.12.0-rc0->tensorflow) (2.33.0)\n",
      "Requirement already satisfied: google-auth-oauthlib<1.1,>=0.5 in c:\\users\\aorus\\anaconda3\\lib\\site-packages (from tensorboard<2.13,>=2.12->tensorflow-intel==2.12.0-rc0->tensorflow) (1.0.0)\n",
      "Requirement already satisfied: markdown>=2.6.8 in c:\\users\\aorus\\anaconda3\\lib\\site-packages (from tensorboard<2.13,>=2.12->tensorflow-intel==2.12.0-rc0->tensorflow) (3.4.1)\n",
      "Requirement already satisfied: requests<3,>=2.21.0 in c:\\users\\aorus\\anaconda3\\lib\\site-packages (from tensorboard<2.13,>=2.12->tensorflow-intel==2.12.0-rc0->tensorflow) (2.31.0)\n",
      "Requirement already satisfied: tensorboard-data-server<0.8.0,>=0.7.0 in c:\\users\\aorus\\anaconda3\\lib\\site-packages (from tensorboard<2.13,>=2.12->tensorflow-intel==2.12.0-rc0->tensorflow) (0.7.2)\n",
      "Requirement already satisfied: werkzeug>=1.0.1 in c:\\users\\aorus\\anaconda3\\lib\\site-packages (from tensorboard<2.13,>=2.12->tensorflow-intel==2.12.0-rc0->tensorflow) (2.2.3)\n",
      "Requirement already satisfied: cachetools<6.0,>=2.0.0 in c:\\users\\aorus\\anaconda3\\lib\\site-packages (from google-auth<3,>=1.6.3->tensorboard<2.13,>=2.12->tensorflow-intel==2.12.0-rc0->tensorflow) (4.2.2)\n",
      "Requirement already satisfied: pyasn1-modules>=0.2.1 in c:\\users\\aorus\\anaconda3\\lib\\site-packages (from google-auth<3,>=1.6.3->tensorboard<2.13,>=2.12->tensorflow-intel==2.12.0-rc0->tensorflow) (0.2.8)\n",
      "Requirement already satisfied: rsa<5,>=3.1.4 in c:\\users\\aorus\\anaconda3\\lib\\site-packages (from google-auth<3,>=1.6.3->tensorboard<2.13,>=2.12->tensorflow-intel==2.12.0-rc0->tensorflow) (4.9)\n",
      "Requirement already satisfied: requests-oauthlib>=0.7.0 in c:\\users\\aorus\\anaconda3\\lib\\site-packages (from google-auth-oauthlib<1.1,>=0.5->tensorboard<2.13,>=2.12->tensorflow-intel==2.12.0-rc0->tensorflow) (2.0.0)\n",
      "Requirement already satisfied: charset-normalizer<4,>=2 in c:\\users\\aorus\\anaconda3\\lib\\site-packages (from requests<3,>=2.21.0->tensorboard<2.13,>=2.12->tensorflow-intel==2.12.0-rc0->tensorflow) (2.0.4)\n",
      "Requirement already satisfied: idna<4,>=2.5 in c:\\users\\aorus\\anaconda3\\lib\\site-packages (from requests<3,>=2.21.0->tensorboard<2.13,>=2.12->tensorflow-intel==2.12.0-rc0->tensorflow) (3.4)\n",
      "Requirement already satisfied: urllib3<3,>=1.21.1 in c:\\users\\aorus\\anaconda3\\lib\\site-packages (from requests<3,>=2.21.0->tensorboard<2.13,>=2.12->tensorflow-intel==2.12.0-rc0->tensorflow) (2.0.7)\n",
      "Requirement already satisfied: certifi>=2017.4.17 in c:\\users\\aorus\\anaconda3\\lib\\site-packages (from requests<3,>=2.21.0->tensorboard<2.13,>=2.12->tensorflow-intel==2.12.0-rc0->tensorflow) (2024.2.2)\n",
      "Requirement already satisfied: MarkupSafe>=2.1.1 in c:\\users\\aorus\\anaconda3\\lib\\site-packages (from werkzeug>=1.0.1->tensorboard<2.13,>=2.12->tensorflow-intel==2.12.0-rc0->tensorflow) (2.1.3)\n",
      "Requirement already satisfied: pyasn1<0.5.0,>=0.4.6 in c:\\users\\aorus\\anaconda3\\lib\\site-packages (from pyasn1-modules>=0.2.1->google-auth<3,>=1.6.3->tensorboard<2.13,>=2.12->tensorflow-intel==2.12.0-rc0->tensorflow) (0.4.8)\n",
      "Requirement already satisfied: oauthlib>=3.0.0 in c:\\users\\aorus\\anaconda3\\lib\\site-packages (from requests-oauthlib>=0.7.0->google-auth-oauthlib<1.1,>=0.5->tensorboard<2.13,>=2.12->tensorflow-intel==2.12.0-rc0->tensorflow) (3.2.2)\n",
      "Note: you may need to restart the kernel to use updated packages.\n"
     ]
    }
   ],
   "source": [
    "pip install tensorflow"
   ]
  },
  {
   "cell_type": "code",
   "execution_count": 6,
   "id": "dbbc630b-6ff1-4b66-835a-8c940e7609f9",
   "metadata": {},
   "outputs": [],
   "source": [
    "import pandas as pd\n",
    "import numpy as np\n",
    "np.random.seed(0)\n",
    "# from sklearn.metrics import precision_score,recall_score,f1_score\n",
    "import tensorflow as tf\n",
    "tf.compat.v1.set_random_seed(0)\n",
    "from tensorflow import keras\n",
    "import matplotlib.pyplot as plt\n",
    "# from sklearn.model_selection import train_test_split\n",
    "from sklearn.preprocessing import LabelEncoder\n",
    "# from sklearn.metrics import ConfusionMatrixDisplay\n",
    "# from sklearn.metrics import confusion_matrix\n"
   ]
  },
  {
   "cell_type": "code",
   "execution_count": 7,
   "id": "b27ead9f-5318-4b5f-9848-a06da59a526b",
   "metadata": {},
   "outputs": [
    {
     "name": "stdout",
     "output_type": "stream",
     "text": [
      "Total missing values :  0\n"
     ]
    },
    {
     "data": {
      "text/html": [
       "<div>\n",
       "<style scoped>\n",
       "    .dataframe tbody tr th:only-of-type {\n",
       "        vertical-align: middle;\n",
       "    }\n",
       "\n",
       "    .dataframe tbody tr th {\n",
       "        vertical-align: top;\n",
       "    }\n",
       "\n",
       "    .dataframe thead th {\n",
       "        text-align: right;\n",
       "    }\n",
       "</style>\n",
       "<table border=\"1\" class=\"dataframe\">\n",
       "  <thead>\n",
       "    <tr style=\"text-align: right;\">\n",
       "      <th></th>\n",
       "      <th>timestamp</th>\n",
       "      <th>processId</th>\n",
       "      <th>threadId</th>\n",
       "      <th>parentProcessId</th>\n",
       "      <th>userId</th>\n",
       "      <th>mountNamespace</th>\n",
       "      <th>processName</th>\n",
       "      <th>hostName</th>\n",
       "      <th>eventId</th>\n",
       "      <th>eventName</th>\n",
       "      <th>stackAddresses</th>\n",
       "      <th>argsNum</th>\n",
       "      <th>returnValue</th>\n",
       "      <th>args</th>\n",
       "      <th>sus</th>\n",
       "      <th>evil</th>\n",
       "    </tr>\n",
       "  </thead>\n",
       "  <tbody>\n",
       "    <tr>\n",
       "      <th>0</th>\n",
       "      <td>129.050634</td>\n",
       "      <td>382</td>\n",
       "      <td>382</td>\n",
       "      <td>1</td>\n",
       "      <td>101</td>\n",
       "      <td>4026532232</td>\n",
       "      <td>systemd-resolve</td>\n",
       "      <td>ip-10-100-1-217</td>\n",
       "      <td>41</td>\n",
       "      <td>socket</td>\n",
       "      <td>[140159195621643, 140159192455417, 94656731598...</td>\n",
       "      <td>3</td>\n",
       "      <td>15</td>\n",
       "      <td>[{'name': 'domain', 'type': 'int', 'value': 'A...</td>\n",
       "      <td>0</td>\n",
       "      <td>0</td>\n",
       "    </tr>\n",
       "    <tr>\n",
       "      <th>1</th>\n",
       "      <td>129.051238</td>\n",
       "      <td>379</td>\n",
       "      <td>379</td>\n",
       "      <td>1</td>\n",
       "      <td>100</td>\n",
       "      <td>4026532231</td>\n",
       "      <td>systemd-network</td>\n",
       "      <td>ip-10-100-1-217</td>\n",
       "      <td>41</td>\n",
       "      <td>socket</td>\n",
       "      <td>[139853228042507, 93935071185801, 93935080775184]</td>\n",
       "      <td>3</td>\n",
       "      <td>15</td>\n",
       "      <td>[{'name': 'domain', 'type': 'int', 'value': 'A...</td>\n",
       "      <td>0</td>\n",
       "      <td>0</td>\n",
       "    </tr>\n",
       "    <tr>\n",
       "      <th>2</th>\n",
       "      <td>129.051434</td>\n",
       "      <td>1</td>\n",
       "      <td>1</td>\n",
       "      <td>0</td>\n",
       "      <td>0</td>\n",
       "      <td>4026531840</td>\n",
       "      <td>systemd</td>\n",
       "      <td>ip-10-100-1-217</td>\n",
       "      <td>1005</td>\n",
       "      <td>security_file_open</td>\n",
       "      <td>[140362867191588, 8103505641674583858]</td>\n",
       "      <td>4</td>\n",
       "      <td>0</td>\n",
       "      <td>[{'name': 'pathname', 'type': 'const char*', '...</td>\n",
       "      <td>0</td>\n",
       "      <td>0</td>\n",
       "    </tr>\n",
       "    <tr>\n",
       "      <th>3</th>\n",
       "      <td>129.051481</td>\n",
       "      <td>1</td>\n",
       "      <td>1</td>\n",
       "      <td>0</td>\n",
       "      <td>0</td>\n",
       "      <td>4026531840</td>\n",
       "      <td>systemd</td>\n",
       "      <td>ip-10-100-1-217</td>\n",
       "      <td>257</td>\n",
       "      <td>openat</td>\n",
       "      <td>[]</td>\n",
       "      <td>4</td>\n",
       "      <td>17</td>\n",
       "      <td>[{'name': 'dirfd', 'type': 'int', 'value': -10...</td>\n",
       "      <td>0</td>\n",
       "      <td>0</td>\n",
       "    </tr>\n",
       "    <tr>\n",
       "      <th>4</th>\n",
       "      <td>129.051522</td>\n",
       "      <td>1</td>\n",
       "      <td>1</td>\n",
       "      <td>0</td>\n",
       "      <td>0</td>\n",
       "      <td>4026531840</td>\n",
       "      <td>systemd</td>\n",
       "      <td>ip-10-100-1-217</td>\n",
       "      <td>5</td>\n",
       "      <td>fstat</td>\n",
       "      <td>[140362867189385]</td>\n",
       "      <td>2</td>\n",
       "      <td>0</td>\n",
       "      <td>[{'name': 'fd', 'type': 'int', 'value': 17}, {...</td>\n",
       "      <td>0</td>\n",
       "      <td>0</td>\n",
       "    </tr>\n",
       "    <tr>\n",
       "      <th>...</th>\n",
       "      <td>...</td>\n",
       "      <td>...</td>\n",
       "      <td>...</td>\n",
       "      <td>...</td>\n",
       "      <td>...</td>\n",
       "      <td>...</td>\n",
       "      <td>...</td>\n",
       "      <td>...</td>\n",
       "      <td>...</td>\n",
       "      <td>...</td>\n",
       "      <td>...</td>\n",
       "      <td>...</td>\n",
       "      <td>...</td>\n",
       "      <td>...</td>\n",
       "      <td>...</td>\n",
       "      <td>...</td>\n",
       "    </tr>\n",
       "    <tr>\n",
       "      <th>188962</th>\n",
       "      <td>496.629003</td>\n",
       "      <td>7555</td>\n",
       "      <td>7555</td>\n",
       "      <td>7548</td>\n",
       "      <td>1001</td>\n",
       "      <td>4026531840</td>\n",
       "      <td>tsm</td>\n",
       "      <td>ip-10-100-1-217</td>\n",
       "      <td>42</td>\n",
       "      <td>connect</td>\n",
       "      <td>[]</td>\n",
       "      <td>3</td>\n",
       "      <td>-114</td>\n",
       "      <td>[{'name': 'sockfd', 'type': 'int', 'value': 42...</td>\n",
       "      <td>1</td>\n",
       "      <td>1</td>\n",
       "    </tr>\n",
       "    <tr>\n",
       "      <th>188963</th>\n",
       "      <td>496.629025</td>\n",
       "      <td>7555</td>\n",
       "      <td>7555</td>\n",
       "      <td>7548</td>\n",
       "      <td>1001</td>\n",
       "      <td>4026531840</td>\n",
       "      <td>tsm</td>\n",
       "      <td>ip-10-100-1-217</td>\n",
       "      <td>42</td>\n",
       "      <td>connect</td>\n",
       "      <td>[]</td>\n",
       "      <td>3</td>\n",
       "      <td>-114</td>\n",
       "      <td>[{'name': 'sockfd', 'type': 'int', 'value': 42...</td>\n",
       "      <td>1</td>\n",
       "      <td>1</td>\n",
       "    </tr>\n",
       "    <tr>\n",
       "      <th>188964</th>\n",
       "      <td>496.629047</td>\n",
       "      <td>7555</td>\n",
       "      <td>7555</td>\n",
       "      <td>7548</td>\n",
       "      <td>1001</td>\n",
       "      <td>4026531840</td>\n",
       "      <td>tsm</td>\n",
       "      <td>ip-10-100-1-217</td>\n",
       "      <td>42</td>\n",
       "      <td>connect</td>\n",
       "      <td>[]</td>\n",
       "      <td>3</td>\n",
       "      <td>-114</td>\n",
       "      <td>[{'name': 'sockfd', 'type': 'int', 'value': 42...</td>\n",
       "      <td>1</td>\n",
       "      <td>1</td>\n",
       "    </tr>\n",
       "    <tr>\n",
       "      <th>188965</th>\n",
       "      <td>496.629069</td>\n",
       "      <td>7555</td>\n",
       "      <td>7555</td>\n",
       "      <td>7548</td>\n",
       "      <td>1001</td>\n",
       "      <td>4026531840</td>\n",
       "      <td>tsm</td>\n",
       "      <td>ip-10-100-1-217</td>\n",
       "      <td>42</td>\n",
       "      <td>connect</td>\n",
       "      <td>[]</td>\n",
       "      <td>3</td>\n",
       "      <td>-114</td>\n",
       "      <td>[{'name': 'sockfd', 'type': 'int', 'value': 42...</td>\n",
       "      <td>1</td>\n",
       "      <td>1</td>\n",
       "    </tr>\n",
       "    <tr>\n",
       "      <th>188966</th>\n",
       "      <td>496.629091</td>\n",
       "      <td>7555</td>\n",
       "      <td>7555</td>\n",
       "      <td>7548</td>\n",
       "      <td>1001</td>\n",
       "      <td>4026531840</td>\n",
       "      <td>tsm</td>\n",
       "      <td>ip-10-100-1-217</td>\n",
       "      <td>42</td>\n",
       "      <td>connect</td>\n",
       "      <td>[]</td>\n",
       "      <td>3</td>\n",
       "      <td>-114</td>\n",
       "      <td>[{'name': 'sockfd', 'type': 'int', 'value': 42...</td>\n",
       "      <td>1</td>\n",
       "      <td>1</td>\n",
       "    </tr>\n",
       "  </tbody>\n",
       "</table>\n",
       "<p>188967 rows × 16 columns</p>\n",
       "</div>"
      ],
      "text/plain": [
       "         timestamp  processId  threadId  parentProcessId  userId  \\\n",
       "0       129.050634        382       382                1     101   \n",
       "1       129.051238        379       379                1     100   \n",
       "2       129.051434          1         1                0       0   \n",
       "3       129.051481          1         1                0       0   \n",
       "4       129.051522          1         1                0       0   \n",
       "...            ...        ...       ...              ...     ...   \n",
       "188962  496.629003       7555      7555             7548    1001   \n",
       "188963  496.629025       7555      7555             7548    1001   \n",
       "188964  496.629047       7555      7555             7548    1001   \n",
       "188965  496.629069       7555      7555             7548    1001   \n",
       "188966  496.629091       7555      7555             7548    1001   \n",
       "\n",
       "        mountNamespace      processName         hostName  eventId  \\\n",
       "0           4026532232  systemd-resolve  ip-10-100-1-217       41   \n",
       "1           4026532231  systemd-network  ip-10-100-1-217       41   \n",
       "2           4026531840          systemd  ip-10-100-1-217     1005   \n",
       "3           4026531840          systemd  ip-10-100-1-217      257   \n",
       "4           4026531840          systemd  ip-10-100-1-217        5   \n",
       "...                ...              ...              ...      ...   \n",
       "188962      4026531840              tsm  ip-10-100-1-217       42   \n",
       "188963      4026531840              tsm  ip-10-100-1-217       42   \n",
       "188964      4026531840              tsm  ip-10-100-1-217       42   \n",
       "188965      4026531840              tsm  ip-10-100-1-217       42   \n",
       "188966      4026531840              tsm  ip-10-100-1-217       42   \n",
       "\n",
       "                 eventName                                     stackAddresses  \\\n",
       "0                   socket  [140159195621643, 140159192455417, 94656731598...   \n",
       "1                   socket  [139853228042507, 93935071185801, 93935080775184]   \n",
       "2       security_file_open             [140362867191588, 8103505641674583858]   \n",
       "3                   openat                                                 []   \n",
       "4                    fstat                                  [140362867189385]   \n",
       "...                    ...                                                ...   \n",
       "188962             connect                                                 []   \n",
       "188963             connect                                                 []   \n",
       "188964             connect                                                 []   \n",
       "188965             connect                                                 []   \n",
       "188966             connect                                                 []   \n",
       "\n",
       "        argsNum  returnValue  \\\n",
       "0             3           15   \n",
       "1             3           15   \n",
       "2             4            0   \n",
       "3             4           17   \n",
       "4             2            0   \n",
       "...         ...          ...   \n",
       "188962        3         -114   \n",
       "188963        3         -114   \n",
       "188964        3         -114   \n",
       "188965        3         -114   \n",
       "188966        3         -114   \n",
       "\n",
       "                                                     args  sus  evil  \n",
       "0       [{'name': 'domain', 'type': 'int', 'value': 'A...    0     0  \n",
       "1       [{'name': 'domain', 'type': 'int', 'value': 'A...    0     0  \n",
       "2       [{'name': 'pathname', 'type': 'const char*', '...    0     0  \n",
       "3       [{'name': 'dirfd', 'type': 'int', 'value': -10...    0     0  \n",
       "4       [{'name': 'fd', 'type': 'int', 'value': 17}, {...    0     0  \n",
       "...                                                   ...  ...   ...  \n",
       "188962  [{'name': 'sockfd', 'type': 'int', 'value': 42...    1     1  \n",
       "188963  [{'name': 'sockfd', 'type': 'int', 'value': 42...    1     1  \n",
       "188964  [{'name': 'sockfd', 'type': 'int', 'value': 42...    1     1  \n",
       "188965  [{'name': 'sockfd', 'type': 'int', 'value': 42...    1     1  \n",
       "188966  [{'name': 'sockfd', 'type': 'int', 'value': 42...    1     1  \n",
       "\n",
       "[188967 rows x 16 columns]"
      ]
     },
     "execution_count": 7,
     "metadata": {},
     "output_type": "execute_result"
    }
   ],
   "source": [
    "data = pd.read_csv(\"Project1\\labelled_testing_data.csv\")\n",
    "print(\"Total missing values : \",sum(list(data.isna().sum())))\n",
    "data\n",
    "\n"
   ]
  },
  {
   "cell_type": "code",
   "execution_count": 8,
   "id": "2a4dc02d-acbb-4ee0-a52e-3ac67d59b579",
   "metadata": {},
   "outputs": [],
   "source": [
    "import numpy as np\n",
    "import pandas as pd\n",
    "from sklearn.model_selection import train_test_split\n",
    "from sklearn.preprocessing import StandardScaler\n",
    "from tensorflow.keras.models import Sequential\n",
    "from tensorflow.keras.layers import Dense, Conv1D, MaxPooling1D, Flatten, Dropout\n"
   ]
  },
  {
   "cell_type": "code",
   "execution_count": 9,
   "id": "0fbeac10-d59f-4634-b645-78c59cf41c66",
   "metadata": {},
   "outputs": [],
   "source": [
    "non_numeric_columns = data.select_dtypes(include=['object']).columns\n",
    "le = LabelEncoder()\n",
    "for column in non_numeric_columns:\n",
    "    data[column] = le.fit_transform(data[column])"
   ]
  },
  {
   "cell_type": "code",
   "execution_count": 10,
   "id": "bc2246db-27f7-4f92-a2df-9008a008b065",
   "metadata": {},
   "outputs": [],
   "source": [
    "# Assume the last column is the label\n",
    "X = data.iloc[:, :-1].values  # Features\n",
    "y = data.iloc[:, -1].values   # Labels\n",
    "\n",
    "    \n",
    "# Split the data into training and testing sets\n",
    "X_train, X_test, y_train, y_test = train_test_split(X, y, test_size=0.3, random_state=42)\n",
    "\n",
    "# Scale the features\n",
    "scaler = StandardScaler()\n",
    "X_train = scaler.fit_transform(X_train)\n",
    "X_test = scaler.transform(X_test)\n",
    "\n",
    "# Reshape for 1D-CNN: (samples, time steps, features)\n",
    "X_train = X_train.reshape(X_train.shape[0], X_train.shape[1], 1)\n",
    "X_test = X_test.reshape(X_test.shape[0], X_test.shape[1], 1)"
   ]
  },
  {
   "cell_type": "code",
   "execution_count": 11,
   "id": "3dc1c5d1-5299-440c-ba87-3a940baa7227",
   "metadata": {},
   "outputs": [
    {
     "name": "stdout",
     "output_type": "stream",
     "text": [
      "Model: \"sequential\"\n",
      "_________________________________________________________________\n",
      " Layer (type)                Output Shape              Param #   \n",
      "=================================================================\n",
      " conv1d (Conv1D)             (None, 13, 32)            128       \n",
      "                                                                 \n",
      " max_pooling1d (MaxPooling1D  (None, 6, 32)            0         \n",
      " )                                                               \n",
      "                                                                 \n",
      " dropout (Dropout)           (None, 6, 32)             0         \n",
      "                                                                 \n",
      " conv1d_1 (Conv1D)           (None, 4, 64)             6208      \n",
      "                                                                 \n",
      " max_pooling1d_1 (MaxPooling  (None, 2, 64)            0         \n",
      " 1D)                                                             \n",
      "                                                                 \n",
      " dropout_1 (Dropout)         (None, 2, 64)             0         \n",
      "                                                                 \n",
      " flatten (Flatten)           (None, 128)               0         \n",
      "                                                                 \n",
      " dense (Dense)               (None, 128)               16512     \n",
      "                                                                 \n",
      " dropout_2 (Dropout)         (None, 128)               0         \n",
      "                                                                 \n",
      " dense_1 (Dense)             (None, 1)                 129       \n",
      "                                                                 \n",
      "=================================================================\n",
      "Total params: 22,977\n",
      "Trainable params: 22,977\n",
      "Non-trainable params: 0\n",
      "_________________________________________________________________\n"
     ]
    }
   ],
   "source": [
    "model = Sequential()\n",
    "\n",
    "# 1D Convolutional layer\n",
    "model.add(Conv1D(filters=32, kernel_size=3, activation='relu', input_shape=(X_train.shape[1], 1)))\n",
    "model.add(MaxPooling1D(pool_size=2))\n",
    "model.add(Dropout(0.5))\n",
    "\n",
    "# Another Conv layer (optional)\n",
    "model.add(Conv1D(filters=64, kernel_size=3, activation='relu'))\n",
    "model.add(MaxPooling1D(pool_size=2))\n",
    "model.add(Dropout(0.5))\n",
    "\n",
    "# Flatten and Dense layers\n",
    "model.add(Flatten())\n",
    "model.add(Dense(units=128, activation='relu'))\n",
    "model.add(Dropout(0.5))\n",
    "model.add(Dense(units=1, activation='sigmoid'))  # Use 'sigmoid' for binary classification\n",
    "\n",
    "# Compile the model\n",
    "model.compile(optimizer='adam', loss='binary_crossentropy', metrics=['accuracy'])\n",
    "\n",
    "# Summary of the model\n",
    "model.summary()\n"
   ]
  },
  {
   "cell_type": "code",
   "execution_count": 12,
   "id": "86177f02-e4ab-4932-8c8a-415c7784ba7b",
   "metadata": {},
   "outputs": [
    {
     "name": "stdout",
     "output_type": "stream",
     "text": [
      "Epoch 1/10\n",
      "3307/3307 [==============================] - 13s 3ms/step - loss: 0.0444 - accuracy: 0.9891 - val_loss: 0.0318 - val_accuracy: 0.9914\n",
      "Epoch 2/10\n",
      "3307/3307 [==============================] - 11s 3ms/step - loss: 0.0303 - accuracy: 0.9921 - val_loss: 0.0276 - val_accuracy: 0.9914\n",
      "Epoch 3/10\n",
      "3307/3307 [==============================] - 11s 3ms/step - loss: 0.0292 - accuracy: 0.9921 - val_loss: 0.0266 - val_accuracy: 0.9914\n",
      "Epoch 4/10\n",
      "3307/3307 [==============================] - 11s 3ms/step - loss: 0.0274 - accuracy: 0.9922 - val_loss: 0.0253 - val_accuracy: 0.9914\n",
      "Epoch 5/10\n",
      "3307/3307 [==============================] - 10s 3ms/step - loss: 0.0267 - accuracy: 0.9922 - val_loss: 0.0246 - val_accuracy: 0.9909\n",
      "Epoch 6/10\n",
      "3307/3307 [==============================] - 11s 3ms/step - loss: 0.0264 - accuracy: 0.9924 - val_loss: 0.0237 - val_accuracy: 0.9916\n",
      "Epoch 7/10\n",
      "3307/3307 [==============================] - 12s 4ms/step - loss: 0.0257 - accuracy: 0.9924 - val_loss: 0.0237 - val_accuracy: 0.9916\n",
      "Epoch 8/10\n",
      "3307/3307 [==============================] - 13s 4ms/step - loss: 0.0255 - accuracy: 0.9923 - val_loss: 0.0242 - val_accuracy: 0.9915\n",
      "Epoch 9/10\n",
      "3307/3307 [==============================] - 14s 4ms/step - loss: 0.0258 - accuracy: 0.9924 - val_loss: 0.0253 - val_accuracy: 0.9916\n",
      "Epoch 10/10\n",
      "3307/3307 [==============================] - 13s 4ms/step - loss: 0.0251 - accuracy: 0.9925 - val_loss: 0.0240 - val_accuracy: 0.9916\n"
     ]
    },
    {
     "data": {
      "text/plain": [
       "<keras.callbacks.History at 0x244355b3d10>"
      ]
     },
     "execution_count": 12,
     "metadata": {},
     "output_type": "execute_result"
    }
   ],
   "source": [
    "model.fit(X_train, y_train, epochs=10, batch_size=32, validation_split=0.2)"
   ]
  },
  {
   "cell_type": "code",
   "execution_count": 13,
   "id": "21e54afd-8d33-47e2-bf44-2caaa47c48a4",
   "metadata": {},
   "outputs": [
    {
     "name": "stdout",
     "output_type": "stream",
     "text": [
      "1772/1772 [==============================] - 3s 2ms/step - loss: 0.0218 - accuracy: 0.9932\n",
      "Test Accuracy: 99.32%\n"
     ]
    }
   ],
   "source": [
    "loss, accuracy = model.evaluate(X_test, y_test)\n",
    "print(f'Test Accuracy: {accuracy * 100:.2f}%')"
   ]
  },
  {
   "cell_type": "code",
   "execution_count": 14,
   "id": "f5c60eba-f2a3-4372-9ee4-a7b40ef5862a",
   "metadata": {},
   "outputs": [
    {
     "name": "stdout",
     "output_type": "stream",
     "text": [
      "1772/1772 [==============================] - 3s 2ms/step - loss: 0.0218 - accuracy: 0.9932\n",
      "ACCURACY :  [0.021787749603390694, 0.9931558966636658]\n"
     ]
    }
   ],
   "source": [
    "score = model.evaluate(X_test,y_test)\n",
    "print(\"ACCURACY : \",score)"
   ]
  },
  {
   "cell_type": "code",
   "execution_count": 15,
   "id": "53552efb-1c5a-4379-93db-6f2cdeedcf86",
   "metadata": {},
   "outputs": [
    {
     "name": "stdout",
     "output_type": "stream",
     "text": [
      "4134/4134 [==============================] - 6s 1ms/step - loss: 0.0228 - accuracy: 0.9924\n",
      "ACCURACY :  [0.022768428549170494, 0.9923795461654663]\n"
     ]
    }
   ],
   "source": [
    "score = model.evaluate(X_train,y_train)\n",
    "print(\"ACCURACY : \",score)"
   ]
  },
  {
   "cell_type": "code",
   "execution_count": 16,
   "id": "b7787eb1-91e5-4a14-afd9-354479e421c3",
   "metadata": {},
   "outputs": [
    {
     "name": "stdout",
     "output_type": "stream",
     "text": [
      "Total number of features: 15\n",
      "Feature numbers: [1, 2, 3, 4, 5, 6, 7, 8, 9, 10, 11, 12, 13, 14, 15]\n"
     ]
    }
   ],
   "source": [
    "num_features = data.shape[1] - 1  # Exclude the label column\n",
    "print(f'Total number of features: {num_features}')\n",
    "\n",
    "# Print all feature numbers\n",
    "feature_numbers = list(range(1, num_features + 1))\n",
    "print('Feature numbers:', feature_numbers)"
   ]
  },
  {
   "cell_type": "code",
   "execution_count": 17,
   "id": "3d9f5da5-53a0-4e83-9786-7ab8417a9ffd",
   "metadata": {},
   "outputs": [
    {
     "name": "stdout",
     "output_type": "stream",
     "text": [
      "1/1 [==============================] - 0s 211ms/step\n",
      "Prediction: [[0]]\n"
     ]
    }
   ],
   "source": [
    "new_data = np.array([[1, 2, 3, 4, 5, 6, 7, 8, 9, 10, 11, 12, 13, 14, 15]])  # \n",
    "new_data_scaled = scaler.transform(new_data)\n",
    "new_data_scaled = new_data_scaled.reshape(new_data_scaled.shape[0], new_data_scaled.shape[1], 1)\n",
    "\n",
    "# Predict\n",
    "prediction = (model.predict(new_data_scaled) > 0.5).astype(\"int32\")\n",
    "print(f'Prediction: {prediction}')"
   ]
  },
  {
   "cell_type": "code",
   "execution_count": 18,
   "id": "b4134e85-3150-4e82-b284-a4a77ff2fabb",
   "metadata": {},
   "outputs": [
    {
     "name": "stdout",
     "output_type": "stream",
     "text": [
      "Feature 1 (timestamp):\n",
      "[129.050634 129.051238 129.051434 ... 496.629047 496.629069 496.629091]\n",
      "\n",
      "Feature 2 (processId):\n",
      "[ 382  379    1 ... 7555 7555 7555]\n",
      "\n",
      "Feature 3 (threadId):\n",
      "[ 382  379    1 ... 7555 7555 7555]\n",
      "\n",
      "Feature 4 (parentProcessId):\n",
      "[   1    1    0 ... 7548 7548 7548]\n",
      "\n",
      "Feature 5 (userId):\n",
      "[ 101  100    0 ... 1001 1001 1001]\n",
      "\n",
      "Feature 6 (mountNamespace):\n",
      "[4026532232 4026532231 4026531840 ... 4026531840 4026531840 4026531840]\n",
      "\n",
      "Feature 7 (processName):\n",
      "[ 78  77  73 ... 233 233 233]\n",
      "\n",
      "Feature 8 (hostName):\n",
      "[0 0 0 ... 0 0 0]\n",
      "\n",
      "Feature 9 (eventId):\n",
      "[  41   41 1005 ...   42   42   42]\n",
      "\n",
      "Feature 10 (eventName):\n",
      "[40 40 32 ...  9  9  9]\n",
      "\n",
      "Feature 11 (stackAddresses):\n",
      "[1601 1158 2206 ... 4195 4195 4195]\n",
      "\n",
      "Feature 12 (argsNum):\n",
      "[3 3 4 ... 3 3 3]\n",
      "\n",
      "Feature 13 (returnValue):\n",
      "[  15   15    0 ... -114 -114 -114]\n",
      "\n",
      "Feature 14 (args):\n",
      "[ 6912  6912 12213 ... 25385 25407 25427]\n",
      "\n",
      "Feature 15 (sus):\n",
      "[0 0 0 ... 1 1 1]\n",
      "\n"
     ]
    }
   ],
   "source": [
    "features = data.iloc[:, :-1]  # Adjust if label column is not the last column\n",
    "\n",
    "# Print the feature names (if available) and their corresponding values\n",
    "for i, column in enumerate(features.columns, start=1):\n",
    "    print(f'Feature {i} ({column}):')\n",
    "    print(features[column].values)\n",
    "    print()"
   ]
  },
  {
   "cell_type": "code",
   "execution_count": 19,
   "id": "e3254d92-b724-4892-9313-b2e7cb358be4",
   "metadata": {},
   "outputs": [],
   "source": [
    "import numpy as np\n",
    "import pandas as pd\n",
    "from sklearn.model_selection import train_test_split\n",
    "from sklearn.preprocessing import StandardScaler\n",
    "from tensorflow.keras.models import Sequential\n",
    "from tensorflow.keras.layers import SimpleRNN, Dense, Dropout"
   ]
  },
  {
   "cell_type": "code",
   "execution_count": 20,
   "id": "1fc66302-15d6-44c5-b9c8-c58d5c9a38f6",
   "metadata": {},
   "outputs": [],
   "source": [
    "X = data.iloc[:, :-1].values  # Features\n",
    "y = data.iloc[:, -1].values   # Labels\n",
    "\n",
    "# Split the data into training and testing sets\n",
    "X_train, X_test, y_train, y_test = train_test_split(X, y, test_size=0.3, random_state=42)\n",
    "\n",
    "# Scale the features\n",
    "scaler = StandardScaler()\n",
    "X_train = scaler.fit_transform(X_train)\n",
    "X_test = scaler.transform(X_test)\n",
    "\n",
    "# Reshape for RNN: (samples, time steps, features)\n",
    "# Here, we assume each sample is a single time step with multiple features\n",
    "X_train = X_train.reshape((X_train.shape[0], 1, X_train.shape[1]))\n",
    "X_test = X_test.reshape((X_test.shape[0], 1, X_test.shape[1]))"
   ]
  },
  {
   "cell_type": "code",
   "execution_count": 21,
   "id": "8ed75a5e-a7af-478f-8225-14188bb4554a",
   "metadata": {},
   "outputs": [
    {
     "name": "stdout",
     "output_type": "stream",
     "text": [
      "Model: \"sequential_1\"\n",
      "_________________________________________________________________\n",
      " Layer (type)                Output Shape              Param #   \n",
      "=================================================================\n",
      " simple_rnn (SimpleRNN)      (None, 100)               11600     \n",
      "                                                                 \n",
      " dropout_3 (Dropout)         (None, 100)               0         \n",
      "                                                                 \n",
      " dense_2 (Dense)             (None, 1)                 101       \n",
      "                                                                 \n",
      "=================================================================\n",
      "Total params: 11,701\n",
      "Trainable params: 11,701\n",
      "Non-trainable params: 0\n",
      "_________________________________________________________________\n"
     ]
    }
   ],
   "source": [
    "model = Sequential()\n",
    "\n",
    "# Add a SimpleRNN layer\n",
    "model.add(SimpleRNN(units=100, activation='relu', input_shape=(X_train.shape[1], X_train.shape[2])))\n",
    "model.add(Dropout(0.2))\n",
    "\n",
    "# Add a Dense output layer\n",
    "model.add(Dense(units=1, activation='sigmoid'))  # Use 'sigmoid' for binary classification\n",
    "\n",
    "# Compile the model\n",
    "model.compile(optimizer='adam', loss='binary_crossentropy', metrics=['accuracy'])\n",
    "\n",
    "# Summary of the model\n",
    "model.summary()"
   ]
  },
  {
   "cell_type": "code",
   "execution_count": 22,
   "id": "82b2f65f-42a3-4b58-8d2e-087d536bdcd6",
   "metadata": {},
   "outputs": [
    {
     "name": "stdout",
     "output_type": "stream",
     "text": [
      "Epoch 1/10\n",
      "3307/3307 [==============================] - 10s 3ms/step - loss: 0.0329 - accuracy: 0.9917 - val_loss: 0.0219 - val_accuracy: 0.9927\n",
      "Epoch 2/10\n",
      "3307/3307 [==============================] - 8s 2ms/step - loss: 0.0201 - accuracy: 0.9935 - val_loss: 0.0198 - val_accuracy: 0.9929\n",
      "Epoch 3/10\n",
      "3307/3307 [==============================] - 9s 3ms/step - loss: 0.0182 - accuracy: 0.9936 - val_loss: 0.0183 - val_accuracy: 0.9930\n",
      "Epoch 4/10\n",
      "3307/3307 [==============================] - 9s 3ms/step - loss: 0.0172 - accuracy: 0.9938 - val_loss: 0.0174 - val_accuracy: 0.9930\n",
      "Epoch 5/10\n",
      "3307/3307 [==============================] - 9s 3ms/step - loss: 0.0163 - accuracy: 0.9938 - val_loss: 0.0169 - val_accuracy: 0.9934\n",
      "Epoch 6/10\n",
      "3307/3307 [==============================] - 6s 2ms/step - loss: 0.0154 - accuracy: 0.9938 - val_loss: 0.0168 - val_accuracy: 0.9933\n",
      "Epoch 7/10\n",
      "3307/3307 [==============================] - 7s 2ms/step - loss: 0.0147 - accuracy: 0.9940 - val_loss: 0.0158 - val_accuracy: 0.9934\n",
      "Epoch 8/10\n",
      "3307/3307 [==============================] - 6s 2ms/step - loss: 0.0141 - accuracy: 0.9942 - val_loss: 0.0149 - val_accuracy: 0.9935\n",
      "Epoch 9/10\n",
      "3307/3307 [==============================] - 6s 2ms/step - loss: 0.0136 - accuracy: 0.9944 - val_loss: 0.0148 - val_accuracy: 0.9933\n",
      "Epoch 10/10\n",
      "3307/3307 [==============================] - 7s 2ms/step - loss: 0.0132 - accuracy: 0.9944 - val_loss: 0.0139 - val_accuracy: 0.9938\n"
     ]
    },
    {
     "data": {
      "text/plain": [
       "<keras.callbacks.History at 0x244370d8250>"
      ]
     },
     "execution_count": 22,
     "metadata": {},
     "output_type": "execute_result"
    }
   ],
   "source": [
    "model.fit(X_train, y_train, epochs=10, batch_size=32, validation_split=0.2)"
   ]
  },
  {
   "cell_type": "code",
   "execution_count": 23,
   "id": "d4c5f9e7-a770-4cae-ba86-61830edaae58",
   "metadata": {},
   "outputs": [
    {
     "name": "stdout",
     "output_type": "stream",
     "text": [
      "1772/1772 [==============================] - 2s 1ms/step - loss: 0.0117 - accuracy: 0.9948\n",
      "Test Accuracy: 99.48%\n"
     ]
    }
   ],
   "source": [
    "loss, accuracy = model.evaluate(X_test, y_test)\n",
    "print(f'Test Accuracy: {accuracy * 100:.2f}%')"
   ]
  },
  {
   "cell_type": "code",
   "execution_count": 24,
   "id": "f9073fd7-3540-4b04-b2ef-a0367f2a1767",
   "metadata": {},
   "outputs": [
    {
     "name": "stdout",
     "output_type": "stream",
     "text": [
      "1/1 [==============================] - 0s 186ms/step\n",
      "Prediction: [[1]]\n"
     ]
    }
   ],
   "source": [
    "new_data = np.array([[1, 2, 3, 4, 5, 6, 7, 8, 9, 10, 11, 12, 13, 14, 15]])  # Replace with actual feature values\n",
    "new_data_scaled = scaler.transform(new_data)\n",
    "new_data_scaled = new_data_scaled.reshape((new_data_scaled.shape[0], 1, new_data_scaled.shape[1]))\n",
    "\n",
    "# Predict\n",
    "prediction = (model.predict(new_data_scaled) > 0.5).astype(\"int32\")\n",
    "print(f'Prediction: {prediction}')"
   ]
  },
  {
   "cell_type": "code",
   "execution_count": 25,
   "id": "c6f09765-b1e2-403f-b181-d2ac254f4bdd",
   "metadata": {},
   "outputs": [],
   "source": [
    "import numpy as np\n",
    "import pandas as pd\n",
    "from sklearn.model_selection import train_test_split\n",
    "from sklearn.preprocessing import StandardScaler\n",
    "from tensorflow.keras.models import Sequential\n",
    "from tensorflow.keras.layers import LSTM, Dense, Dropout"
   ]
  },
  {
   "cell_type": "code",
   "execution_count": 26,
   "id": "91169746-02e8-4436-899f-a953c44e2917",
   "metadata": {},
   "outputs": [],
   "source": [
    "X = data.iloc[:, :-1].values  # Features\n",
    "y = data.iloc[:, -1].values   # Labels\n",
    "\n",
    "# Split the data into training and testing sets\n",
    "X_train, X_test, y_train, y_test = train_test_split(X, y, test_size=0.3, random_state=42)\n",
    "\n",
    "# Scale the features\n",
    "scaler = StandardScaler()\n",
    "X_train = scaler.fit_transform(X_train)\n",
    "X_test = scaler.transform(X_test)\n",
    "\n",
    "# Reshape for LSTM: (samples, time steps, features)\n",
    "# Here, we assume each sample is a single time step with multiple features\n",
    "X_train = X_train.reshape((X_train.shape[0], 1, X_train.shape[1]))\n",
    "X_test = X_test.reshape((X_test.shape[0], 1, X_test.shape[1]))"
   ]
  },
  {
   "cell_type": "code",
   "execution_count": 27,
   "id": "4a776d9b-b998-4440-882b-3cb77bf3a7ea",
   "metadata": {},
   "outputs": [
    {
     "name": "stdout",
     "output_type": "stream",
     "text": [
      "Model: \"sequential_2\"\n",
      "_________________________________________________________________\n",
      " Layer (type)                Output Shape              Param #   \n",
      "=================================================================\n",
      " lstm (LSTM)                 (None, 100)               46400     \n",
      "                                                                 \n",
      " dropout_4 (Dropout)         (None, 100)               0         \n",
      "                                                                 \n",
      " dense_3 (Dense)             (None, 1)                 101       \n",
      "                                                                 \n",
      "=================================================================\n",
      "Total params: 46,501\n",
      "Trainable params: 46,501\n",
      "Non-trainable params: 0\n",
      "_________________________________________________________________\n"
     ]
    }
   ],
   "source": [
    "model = Sequential()\n",
    "\n",
    "# Add an LSTM layer\n",
    "model.add(LSTM(units=100, activation='relu', input_shape=(X_train.shape[1], X_train.shape[2])))\n",
    "model.add(Dropout(0.2))\n",
    "\n",
    "# Add a Dense output layer\n",
    "model.add(Dense(units=1, activation='sigmoid'))  # Use 'sigmoid' for binary classification\n",
    "\n",
    "# Compile the model\n",
    "model.compile(optimizer='adam', loss='binary_crossentropy', metrics=['accuracy'])\n",
    "\n",
    "# Summary of the model\n",
    "model.summary()"
   ]
  },
  {
   "cell_type": "code",
   "execution_count": 28,
   "id": "49298628-631e-4e14-88b1-89aa1d6adacd",
   "metadata": {},
   "outputs": [
    {
     "name": "stdout",
     "output_type": "stream",
     "text": [
      "Epoch 1/10\n",
      "3307/3307 [==============================] - 12s 3ms/step - loss: 0.0384 - accuracy: 0.9909 - val_loss: 0.0227 - val_accuracy: 0.9927\n",
      "Epoch 2/10\n",
      "3307/3307 [==============================] - 8s 2ms/step - loss: 0.0203 - accuracy: 0.9936 - val_loss: 0.0203 - val_accuracy: 0.9928\n",
      "Epoch 3/10\n",
      "3307/3307 [==============================] - 9s 3ms/step - loss: 0.0184 - accuracy: 0.9936 - val_loss: 0.0188 - val_accuracy: 0.9930\n",
      "Epoch 4/10\n",
      "3307/3307 [==============================] - 11s 3ms/step - loss: 0.0174 - accuracy: 0.9936 - val_loss: 0.0181 - val_accuracy: 0.9929\n",
      "Epoch 5/10\n",
      "3307/3307 [==============================] - 12s 4ms/step - loss: 0.0165 - accuracy: 0.9937 - val_loss: 0.0176 - val_accuracy: 0.9929\n",
      "Epoch 6/10\n",
      "3307/3307 [==============================] - 13s 4ms/step - loss: 0.0157 - accuracy: 0.9936 - val_loss: 0.0176 - val_accuracy: 0.9930\n",
      "Epoch 7/10\n",
      "3307/3307 [==============================] - 13s 4ms/step - loss: 0.0152 - accuracy: 0.9938 - val_loss: 0.0165 - val_accuracy: 0.9930\n",
      "Epoch 8/10\n",
      "3307/3307 [==============================] - 12s 4ms/step - loss: 0.0143 - accuracy: 0.9941 - val_loss: 0.0155 - val_accuracy: 0.9934\n",
      "Epoch 9/10\n",
      "3307/3307 [==============================] - 12s 4ms/step - loss: 0.0138 - accuracy: 0.9943 - val_loss: 0.0150 - val_accuracy: 0.9931\n",
      "Epoch 10/10\n",
      "3307/3307 [==============================] - 14s 4ms/step - loss: 0.0129 - accuracy: 0.9945 - val_loss: 0.0145 - val_accuracy: 0.9938\n"
     ]
    },
    {
     "data": {
      "text/plain": [
       "<keras.callbacks.History at 0x2443c711ad0>"
      ]
     },
     "execution_count": 28,
     "metadata": {},
     "output_type": "execute_result"
    }
   ],
   "source": [
    "model.fit(X_train, y_train, epochs=10, batch_size=32, validation_split=0.2)"
   ]
  },
  {
   "cell_type": "code",
   "execution_count": 29,
   "id": "bd7f8453-9b9d-4ed9-8450-fcc3798dbdca",
   "metadata": {},
   "outputs": [
    {
     "name": "stdout",
     "output_type": "stream",
     "text": [
      "1772/1772 [==============================] - 6s 3ms/step - loss: 0.0115 - accuracy: 0.9950\n",
      "Test Accuracy: 99.50%\n"
     ]
    }
   ],
   "source": [
    "loss, accuracy = model.evaluate(X_test, y_test)\n",
    "print(f'Test Accuracy: {accuracy * 100:.2f}%')"
   ]
  },
  {
   "cell_type": "code",
   "execution_count": 30,
   "id": "62bb8fee-64d1-4ed3-b4e8-175ec63cf268",
   "metadata": {},
   "outputs": [
    {
     "name": "stdout",
     "output_type": "stream",
     "text": [
      "1/1 [==============================] - 1s 809ms/step\n",
      "Prediction: [[1]]\n"
     ]
    }
   ],
   "source": [
    "new_data = np.array([[1, 2, 3, 4, 5, 6, 7, 8, 9, 10, 11, 12, 13, 14, 15]]) \n",
    "new_data_scaled = scaler.transform(new_data)\n",
    "new_data_scaled = new_data_scaled.reshape((new_data_scaled.shape[0], 1, new_data_scaled.shape[1]))\n",
    "\n",
    "# Predict\n",
    "prediction = (model.predict(new_data_scaled) > 0.5).astype(\"int32\")\n",
    "print(f'Prediction: {prediction}')\n"
   ]
  },
  {
   "cell_type": "code",
   "execution_count": 31,
   "id": "31109bd8-8ddf-4b49-87bc-8c58cb98ad31",
   "metadata": {},
   "outputs": [],
   "source": [
    "import numpy as np\n",
    "import pandas as pd\n",
    "from sklearn.model_selection import train_test_split\n",
    "from sklearn.preprocessing import StandardScaler\n",
    "from sklearn.metrics import accuracy_score, classification_report\n",
    "import tensorflow as tf\n",
    "from tensorflow.keras import Sequential\n",
    "from tensorflow.keras.layers import Dense"
   ]
  },
  {
   "cell_type": "code",
   "execution_count": 32,
   "id": "a8cbb151-2bc4-4575-8ed4-50d52eabd2d2",
   "metadata": {},
   "outputs": [],
   "source": [
    "# Assuming the last column is the label\n",
    "X = data.iloc[:, :-1].values\n",
    "y = data.iloc[:, -1].values\n",
    "\n",
    "# Split the data into training and testing sets\n",
    "X_train, X_test, y_train, y_test = train_test_split(X, y, test_size=0.3, random_state=42)\n",
    "\n",
    "# Feature scaling\n",
    "scaler = StandardScaler()\n",
    "X_train = scaler.fit_transform(X_train)\n",
    "X_test = scaler.transform(X_test)"
   ]
  },
  {
   "cell_type": "code",
   "execution_count": 33,
   "id": "b55c6f53-8097-40c3-932c-143ca49a94d2",
   "metadata": {},
   "outputs": [],
   "source": [
    "# Initialize the model\n",
    "model = Sequential()\n",
    "\n",
    "# Add input layer and the first hidden layer\n",
    "model.add(Dense(units=128, activation='relu', input_dim=X_train.shape[1]))\n",
    "\n",
    "# Add additional hidden layers\n",
    "model.add(Dense(units=64, activation='relu'))\n",
    "model.add(Dense(units=32, activation='relu'))\n",
    "\n",
    "# Add output layer\n",
    "model.add(Dense(units=1, activation='sigmoid'))\n",
    "\n",
    "# Compile the model\n",
    "model.compile(optimizer='adam', loss='binary_crossentropy', metrics=['accuracy'])"
   ]
  },
  {
   "cell_type": "code",
   "execution_count": 34,
   "id": "ca7faf86-a80b-4aa4-8ee0-69178e0bc832",
   "metadata": {},
   "outputs": [
    {
     "name": "stdout",
     "output_type": "stream",
     "text": [
      "Epoch 1/10\n",
      "3307/3307 [==============================] - 14s 3ms/step - loss: 0.0256 - accuracy: 0.9927 - val_loss: 0.0185 - val_accuracy: 0.9930\n",
      "Epoch 2/10\n",
      "3307/3307 [==============================] - 7s 2ms/step - loss: 0.0182 - accuracy: 0.9936 - val_loss: 0.0163 - val_accuracy: 0.9930\n",
      "Epoch 3/10\n",
      "3307/3307 [==============================] - 5s 2ms/step - loss: 0.0152 - accuracy: 0.9937 - val_loss: 0.0154 - val_accuracy: 0.9934\n",
      "Epoch 4/10\n",
      "3307/3307 [==============================] - 6s 2ms/step - loss: 0.0123 - accuracy: 0.9949 - val_loss: 0.0114 - val_accuracy: 0.9950\n",
      "Epoch 5/10\n",
      "3307/3307 [==============================] - 5s 1ms/step - loss: 0.0105 - accuracy: 0.9956 - val_loss: 0.0135 - val_accuracy: 0.9954\n",
      "Epoch 6/10\n",
      "3307/3307 [==============================] - 6s 2ms/step - loss: 0.0089 - accuracy: 0.9965 - val_loss: 0.0086 - val_accuracy: 0.9966\n",
      "Epoch 7/10\n",
      "3307/3307 [==============================] - 6s 2ms/step - loss: 0.0076 - accuracy: 0.9971 - val_loss: 0.0099 - val_accuracy: 0.9960\n",
      "Epoch 8/10\n",
      "3307/3307 [==============================] - 5s 2ms/step - loss: 0.0071 - accuracy: 0.9974 - val_loss: 0.0089 - val_accuracy: 0.9963\n",
      "Epoch 9/10\n",
      "3307/3307 [==============================] - 6s 2ms/step - loss: 0.0067 - accuracy: 0.9974 - val_loss: 0.0064 - val_accuracy: 0.9975\n",
      "Epoch 10/10\n",
      "3307/3307 [==============================] - 5s 2ms/step - loss: 0.0062 - accuracy: 0.9976 - val_loss: 0.0054 - val_accuracy: 0.9981\n"
     ]
    },
    {
     "data": {
      "text/plain": [
       "<keras.callbacks.History at 0x244429b5990>"
      ]
     },
     "execution_count": 34,
     "metadata": {},
     "output_type": "execute_result"
    }
   ],
   "source": [
    "# Train the model\n",
    "model.fit(X_train, y_train, epochs=10, batch_size=32, validation_split=0.2)"
   ]
  },
  {
   "cell_type": "code",
   "execution_count": 35,
   "id": "ba33fa08-2631-46fd-9f8a-66f54df8810b",
   "metadata": {},
   "outputs": [
    {
     "name": "stdout",
     "output_type": "stream",
     "text": [
      "1772/1772 [==============================] - 2s 1ms/step - loss: 0.0048 - accuracy: 0.9982\n",
      "Test Accuracy: 99.82%\n"
     ]
    }
   ],
   "source": [
    "loss, accuracy = model.evaluate(X_test, y_test)\n",
    "print(f'Test Accuracy: {accuracy * 100:.2f}%')"
   ]
  },
  {
   "cell_type": "code",
   "execution_count": 36,
   "id": "b9dec709-57a9-43c8-9ec0-ba4855e34a7e",
   "metadata": {},
   "outputs": [
    {
     "name": "stdout",
     "output_type": "stream",
     "text": [
      "1772/1772 [==============================] - 2s 1ms/step\n",
      "Accuracy: 0.9982184120936304\n",
      "              precision    recall  f1-score   support\n",
      "\n",
      "           0       0.99      1.00      0.99      9044\n",
      "           1       1.00      1.00      1.00     47647\n",
      "\n",
      "    accuracy                           1.00     56691\n",
      "   macro avg       1.00      1.00      1.00     56691\n",
      "weighted avg       1.00      1.00      1.00     56691\n",
      "\n"
     ]
    }
   ],
   "source": [
    "# Predict on the test set\n",
    "y_pred = (model.predict(X_test) > 0.5).astype(\"int32\")\n",
    "\n",
    "# Evaluate accuracy\n",
    "accuracy = accuracy_score(y_test, y_pred)\n",
    "print(f'Accuracy: {accuracy}')\n",
    "\n",
    "# Classification report\n",
    "print(classification_report(y_test, y_pred))"
   ]
  },
  {
   "cell_type": "code",
   "execution_count": 37,
   "id": "77bd8cae-16ee-41e0-b10e-bf65c93e428b",
   "metadata": {},
   "outputs": [
    {
     "name": "stdout",
     "output_type": "stream",
     "text": [
      "1772/1772 [==============================] - 3s 2ms/step - loss: 0.0048 - accuracy: 0.9982\n",
      "ACCURACY :  [0.004751901607960463, 0.9982184171676636]\n"
     ]
    }
   ],
   "source": [
    "score = model.evaluate(X_test,y_test)\n",
    "print(\"ACCURACY : \",score)"
   ]
  },
  {
   "cell_type": "code",
   "execution_count": null,
   "id": "ad55d68d-26ea-44bb-8c35-ab555d69c389",
   "metadata": {},
   "outputs": [],
   "source": []
  }
 ],
 "metadata": {
  "kernelspec": {
   "display_name": "Python 3 (ipykernel)",
   "language": "python",
   "name": "python3"
  },
  "language_info": {
   "codemirror_mode": {
    "name": "ipython",
    "version": 3
   },
   "file_extension": ".py",
   "mimetype": "text/x-python",
   "name": "python",
   "nbconvert_exporter": "python",
   "pygments_lexer": "ipython3",
   "version": "3.11.7"
  }
 },
 "nbformat": 4,
 "nbformat_minor": 5
}
